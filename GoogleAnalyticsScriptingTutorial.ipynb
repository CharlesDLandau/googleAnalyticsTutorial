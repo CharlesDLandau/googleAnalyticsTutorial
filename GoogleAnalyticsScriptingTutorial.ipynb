{
 "cells": [
  {
   "cell_type": "markdown",
   "metadata": {
    "colab_type": "text",
    "id": "SWqTjGbeXW4W"
   },
   "source": [
    "# Google Analytics with Python\n",
    "\n",
    "Begin by using the [setup wizard](https://console.developers.google.com/start/api?id=analyticsreporting.googleapis.com&credential=client_key) to create a new project in the Google APIs console. Download your `client_secrets.json` into the project directory.\n",
    "\n",
    "**Note:** `client_secrets.json` should never be committed to version control! For your convenience, it is listed in `.gitignore`.\n",
    "\n",
    "You'll also need the `View ID` which you can get from the Google Analytics console menu under `Admin>View>View Settings>Basic Settings`, among other places.\n",
    "\n",
    "#### Querying the API\n",
    "\n",
    "Google offers a unified client for their APIs, `google-api-python-client`. The documentation can be a little spotty, but it works similar to other cloud provider clients in Python (e.g. boto3 for Amazon.) The lifecycle is roughly:\n",
    "\n",
    "1. `import` it\n",
    "2. Establish a resource\n",
    "    `apiclient` lets you do this with the `apiclient.discovery.build()` or `.build_from_document()`\n",
    "    In this way we go from the general client for all Google APIs to the specific client for Google Analytics\n",
    "3. Interact with the resource\n",
    "    Creating an instance of the Google Analytics client exposes methods that map to their RESTful API endpoints. In this tutorial we're going to interact with just one: `.batchGet`\n",
    "    \n",
    "The file `./bald_query.py`, transcribed below, follows an example of this lifecycle."
   ]
  },
  {
   "cell_type": "raw",
   "metadata": {},
   "source": [
    "#!/usr/bin/env python3\n",
    "\n",
    "from apiclient.discovery import build\n",
    "from oauth2client.service_account import ServiceAccountCredentials\n",
    "\n",
    "\n",
    "SCOPES = ['https://www.googleapis.com/auth/analytics.readonly']\n",
    "KEY_FILE_LOCATION = './client_secrets.json'\n",
    "\n",
    "\n",
    "def initialize_analyticsreporting():\n",
    " credentials = ServiceAccountCredentials.from_json_keyfile_name(\n",
    "      KEY_FILE_LOCATION, SCOPES)\n",
    "\n",
    "   # Build the service object.\n",
    " analytics = build('analyticsreporting', 'v4', credentials=credentials)\n",
    "\n",
    " return analytics\n",
    "\n",
    "\n",
    "def get_report(analytics, body):\n",
    "  return analytics.reports().batchGet(\n",
    "      body=body\n",
    "  ).execute()\n",
    "\n",
    "if __name__ == '__main__':\n",
    "    import sys\n",
    "    VIEW_ID = sys.argv[1]\n",
    "    analytics = initialize_analyticsreporting()\n",
    "    response = get_report(analytics, {\n",
    "            'reportRequests': [\n",
    "            {\n",
    "              'viewId': VIEW_ID,\n",
    "            }]\n",
    "          })\n",
    "    \n",
    "    print(response)"
   ]
  },
  {
   "cell_type": "markdown",
   "metadata": {},
   "source": [
    "#### Running the example script.\n",
    "\n",
    "You can run `bald_query.py` from Jupyter using a terminal instance. With a view id of `001` you call it like so:\n",
    "\n",
    "    python bald_query.py 001\n",
    "    \n",
    "If you set everything up correctly, you should hopefully be seeing some JSON with data about your view."
   ]
  },
  {
   "cell_type": "markdown",
   "metadata": {},
   "source": [
    "Let's drill down on `get_report`:"
   ]
  },
  {
   "cell_type": "raw",
   "metadata": {},
   "source": [
    "def get_report(analytics, body):\n",
    "  return analytics.reports().batchGet(\n",
    "      body=body\n",
    "  ).execute()\n",
    "  "
   ]
  },
  {
   "cell_type": "markdown",
   "metadata": {},
   "source": [
    "Here we can see that `get_report` is just calling `analytics.reports().batchGet()`. This is a method exposed by the Google Analytics client, which maps onto the following API endpoint:\n",
    "\n",
    "    POST https://analyticsreporting.googleapis.com/v4/reports:batchGet\n",
    "    \n",
    "The Google Analytics client handles authentication, but we still need to supply data for the HTTP POST request. In particular, the specification for this endpoint requires a [ReportRequest object](https://developers.google.com/analytics/devguides/reporting/core/v4/rest/v4/reports/batchGet#ReportRequest) with a view id. That's why we're calling this a \"bald\" query -- it's as empty as we can make it.\n",
    "\n",
    "The [batchGet docs](https://developers.google.com/analytics/devguides/reporting/core/v4/rest/v4/reports/batchGet) have an API explorer that you can use to build more complex queries.\n",
    "\n",
    "#### Parsing the response\n",
    "\n",
    "Let's move on to parsing the JSON response. `import` the functions from `bald_query.py`"
   ]
  },
  {
   "cell_type": "code",
   "execution_count": null,
   "metadata": {},
   "outputs": [],
   "source": [
    "from bald_query import get_report, initialize_analyticsreporting"
   ]
  },
  {
   "cell_type": "markdown",
   "metadata": {},
   "source": [
    "We also want the supporting libraries and environment variables"
   ]
  },
  {
   "cell_type": "code",
   "execution_count": null,
   "metadata": {},
   "outputs": [],
   "source": [
    "from apiclient.discovery import build\n",
    "from oauth2client.service_account import ServiceAccountCredentials\n",
    "\n",
    "\n",
    "SCOPES = ['https://www.googleapis.com/auth/analytics.readonly']\n",
    "KEY_FILE_LOCATION = './client_secrets.json'"
   ]
  },
  {
   "cell_type": "markdown",
   "metadata": {},
   "source": [
    "And we're ready to go!"
   ]
  },
  {
   "cell_type": "code",
   "execution_count": null,
   "metadata": {},
   "outputs": [],
   "source": [
    "VIEW_ID = \"<insert your view id>\"\n",
    "analytics = initialize_analyticsreporting()\n",
    "response = get_report(analytics, {\n",
    "        'reportRequests': [\n",
    "        {\n",
    "          'viewId': VIEW_ID,\n",
    "        }]\n",
    "      })"
   ]
  },
  {
   "cell_type": "markdown",
   "metadata": {},
   "source": [
    "In this next part we're going to use `pandas` to print this JSON response as a tabular dataset. `pandas` ships with JSON normalization utilities, and we'll use those here to flatten this response."
   ]
  },
  {
   "cell_type": "code",
   "execution_count": null,
   "metadata": {},
   "outputs": [],
   "source": [
    "import pandas as pd\n",
    "from pandas.io.json import json_normalize\n",
    "\n",
    "def parse_data(response):\n",
    "    reports = response['reports'][0]\n",
    "    headers = reports.get('columnHeader')\n",
    "    columnHeader = headers.get('dimensions', [])\n",
    "    metricHeader = headers.get('metricHeader', {}).get('metricHeaderEntries', [])\n",
    "    \n",
    "    columns = columnHeader\n",
    "    for metric in metricHeader:\n",
    "        columns.append(metric['name'])\n",
    "\n",
    "    data = json_normalize(reports['data']['rows'])\n",
    "    if headers.get('dimensions'):\n",
    "        data_dimensions = pd.DataFrame(data['dimensions'].tolist())\n",
    "    data_metrics = pd.DataFrame(data['metrics'].tolist())\n",
    "    data_metrics = data_metrics.applymap(lambda x: x['values'])\n",
    "    data_metrics = pd.DataFrame(data_metrics[0].tolist())\n",
    "    if headers.get('dimensions'):\n",
    "        result = pd.concat([data_dimensions, data_metrics], axis=1, ignore_index=True)\n",
    "    else:\n",
    "        result = data_metrics\n",
    "    result.columns = columns\n",
    "    return result\n",
    "\n",
    "df = parse_data(response)\n",
    "df"
   ]
  },
  {
   "cell_type": "markdown",
   "metadata": {},
   "source": [
    "This parser may look complicated, but it's simply a chain of `append` and `get` calls with a few `pandas` methods mixed in. Let's break it down:"
   ]
  },
  {
   "cell_type": "markdown",
   "metadata": {},
   "source": [
    "1. Get the zeroth report"
   ]
  },
  {
   "cell_type": "raw",
   "metadata": {},
   "source": [
    "reports = response['reports'][0]"
   ]
  },
  {
   "cell_type": "markdown",
   "metadata": {},
   "source": [
    "2. Get the headers"
   ]
  },
  {
   "cell_type": "raw",
   "metadata": {},
   "source": [
    "headers = reports.get('columnHeader')\n",
    "columnHeader = headers.get('dimensions', [])\n",
    "metricHeader = headers.get('metricHeader', {}).get('metricHeaderEntries', [])"
   ]
  },
  {
   "cell_type": "markdown",
   "metadata": {},
   "source": [
    "3. Flatten the headers"
   ]
  },
  {
   "cell_type": "raw",
   "metadata": {},
   "source": [
    "columns = columnHeader\n",
    "for metric in metricHeader:\n",
    "    columns.append(metric['name'])"
   ]
  },
  {
   "cell_type": "markdown",
   "metadata": {},
   "source": [
    "4. Parse the rows"
   ]
  },
  {
   "cell_type": "raw",
   "metadata": {},
   "source": [
    "data = json_normalize(reports['data']['rows'])\n",
    "if headers.get('dimensions'):\n",
    "    data_dimensions = pd.DataFrame(data['dimensions'].tolist())\n",
    "data_metrics = pd.DataFrame(data['metrics'].tolist())\n",
    "data_metrics = data_metrics.applymap(lambda x: x['values'])\n",
    "data_metrics = pd.DataFrame(data_metrics[0].tolist())\n",
    "if headers.get('dimensions'):\n",
    "    result = pd.concat([data_dimensions, data_metrics], axis=1, ignore_index=True)\n",
    "else:\n",
    "    result = data_metrics"
   ]
  },
  {
   "cell_type": "markdown",
   "metadata": {},
   "source": [
    "**Note:** Here we use if/else control flow to handle the cases where the response doesn't include `dimensions` headers.\n",
    "\n",
    "5. Finally, apply our headers"
   ]
  },
  {
   "cell_type": "raw",
   "metadata": {},
   "source": [
    "result.columns = columns"
   ]
  },
  {
   "cell_type": "markdown",
   "metadata": {},
   "source": [
    "This parser (adapted from [here](https://stackoverflow.com/a/49359989/10553976)) lets us create a `pandas` object from our Google Analytics responses. It's purpose-built, brittle, and it could probably use some optimizations. But once we have a `pandas.DataFrame` object we can use it for any number of data wrangling, dataviz, and data analysis tasks. We can also export it to a file as simply as:"
   ]
  },
  {
   "cell_type": "code",
   "execution_count": null,
   "metadata": {},
   "outputs": [],
   "source": [
    "df = parse_data(response)\n",
    "df.to_csv(\"my_google_analytics_data.csv\")"
   ]
  },
  {
   "cell_type": "markdown",
   "metadata": {},
   "source": [
    "The \"correct\" way to write the parser depends on the data and on what you need to do with the reponse data. However, you can get very far indeed with `.get` and `.append` calls on their own, and even further with a little bit of `pandas` knowledge mixed in."
   ]
  },
  {
   "cell_type": "markdown",
   "metadata": {},
   "source": [
    "#### Conclusion\n",
    "\n",
    "In this tutorial you learned about how to pass queries to the Google Analytics API and to parse the responses. You learned about building specific resource clients the general-purpose API client from google. You learned about using the `getBatch` API endpoint, how to build custom queries for it, and you saw an example of how you can parse them. You also learned a little bit about tidying up JSON responses with `pandas`.\n",
    "\n",
    "References:\n",
    "\n",
    "[Reporting API v4](https://developers.google.com/analytics/devguides/reporting/core/v4/)\n",
    "\n",
    "[Hello Analytics; Python Quickstart by Google](https://developers.google.com/analytics/devguides/reporting/core/v4/quickstart/service-py)\n",
    "\n",
    "[Reference docs by googleapis@github.com](https://googleapis.github.io/google-api-python-client/docs/epy/index.html)"
   ]
  },
  {
   "cell_type": "code",
   "execution_count": null,
   "metadata": {},
   "outputs": [],
   "source": []
  }
 ],
 "metadata": {
  "colab": {
   "name": "AnalyticsScriptingTutorial.ipynb",
   "provenance": [],
   "version": "0.3.2"
  },
  "kernelspec": {
   "display_name": "venv",
   "language": "python",
   "name": "venv"
  },
  "language_info": {
   "codemirror_mode": {
    "name": "ipython",
    "version": 3
   },
   "file_extension": ".py",
   "mimetype": "text/x-python",
   "name": "python",
   "nbconvert_exporter": "python",
   "pygments_lexer": "ipython3",
   "version": "3.6.0"
  }
 },
 "nbformat": 4,
 "nbformat_minor": 2
}
